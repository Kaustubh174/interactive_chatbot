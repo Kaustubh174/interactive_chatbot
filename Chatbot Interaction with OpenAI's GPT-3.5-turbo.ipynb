{
 "cells": [
  {
   "cell_type": "markdown",
   "id": "ee6558b2",
   "metadata": {},
   "source": [
    "# Chatbot Interaction with OpenAI's GPT-3.5-turbo"
   ]
  },
  {
   "cell_type": "code",
   "execution_count": 1,
   "id": "3bb4203e",
   "metadata": {},
   "outputs": [],
   "source": [
    "import openai\n",
    "import os"
   ]
  },
  {
   "cell_type": "code",
   "execution_count": 2,
   "id": "9a8d6d21",
   "metadata": {},
   "outputs": [],
   "source": [
    "os.environ['OPENAI_API_KEY'] = 'yout api key'     #paste your api key here\n",
    "openai.api_key = os.getenv('OPENAI_API_KEY')"
   ]
  },
  {
   "cell_type": "code",
   "execution_count": 3,
   "id": "a5c6b3ef",
   "metadata": {},
   "outputs": [],
   "source": [
    "from openai import OpenAI\n",
    "client = OpenAI()"
   ]
  },
  {
   "cell_type": "code",
   "execution_count": 6,
   "id": "c6f5e75e",
   "metadata": {},
   "outputs": [
    {
     "name": "stdout",
     "output_type": "stream",
     "text": [
      "Me:which is the most biggest city in the world?\n",
      "\n",
      "Chat bot:Tokyo, Japan.\n",
      "\n",
      "--------------------------------------------------\n",
      "\n",
      "Me:what is its area?\n",
      "\n",
      "Chat bot:Approximately 2,194 square kilometers.\n",
      "\n",
      "--------------------------------------------------\n",
      "\n",
      "Me:what is its population?\n",
      "\n",
      "Chat bot:Around 37 million people.\n",
      "\n",
      "--------------------------------------------------\n",
      "\n",
      "Me:which city are we talking about?\n",
      "\n",
      "Chat bot:Tokyo, Japan.\n",
      "\n",
      "--------------------------------------------------\n",
      "\n",
      "Me:exit\n"
     ]
    }
   ],
   "source": [
    "questions = list()\n",
    "current_question = list()\n",
    "bot_response = list()\n",
    "messages = list()\n",
    "\n",
    "    \n",
    "system_prompt = 'Answer as consicely as possible'\n",
    "\n",
    "messages.append({'role':'system','content': system_prompt})\n",
    "\n",
    "while True:\n",
    "    current_question = input('Me:')\n",
    "    if current_question.lower() in ['exit','quite']:\n",
    "        break\n",
    "        \n",
    "    if current_question == '':\n",
    "        continue\n",
    "    \n",
    "    messages.append({'role':'user','content': current_question})\n",
    "    questions.append(current_question)\n",
    "        \n",
    "    response = client.chat.completions.create(\n",
    "        model= 'gpt-3.5-turbo',\n",
    "        messages= messages\n",
    "    )\n",
    "    current_response = response.choices[0].message.content\n",
    "    print(f'\\nChat bot:{current_response}')\n",
    "    bot_response.append(current_response)\n",
    "    messages.append({\"role\": \"assistant\",\"content\": current_response})\n",
    "    \n",
    "    print('\\n' + '-' * 50 + '\\n')"
   ]
  },
  {
   "cell_type": "code",
   "execution_count": null,
   "id": "59c90d55",
   "metadata": {},
   "outputs": [],
   "source": []
  }
 ],
 "metadata": {
  "kernelspec": {
   "display_name": "Python 3 (ipykernel)",
   "language": "python",
   "name": "python3"
  },
  "language_info": {
   "codemirror_mode": {
    "name": "ipython",
    "version": 3
   },
   "file_extension": ".py",
   "mimetype": "text/x-python",
   "name": "python",
   "nbconvert_exporter": "python",
   "pygments_lexer": "ipython3",
   "version": "3.11.4"
  }
 },
 "nbformat": 4,
 "nbformat_minor": 5
}
